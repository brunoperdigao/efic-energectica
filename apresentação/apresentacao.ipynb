{
 "cells": [
  {
   "cell_type": "code",
   "execution_count": 1,
   "metadata": {
    "slideshow": {
     "slide_type": "skip"
    }
   },
   "outputs": [],
   "source": [
    "from IPython.display import Javascript\n",
    "from plotly.offline import get_plotlyjs\n",
    "Javascript(get_plotlyjs())\n",
    "\n",
    "import pandas as pd\n",
    "import numpy as np\n",
    "import matplotlib.pyplot as plt\n",
    "import seaborn as sns\n",
    "from datetime import datetime, date\n",
    "\n",
    "from dash import Dash, dcc, html, Input, Output\n",
    "from jupyter_dash import JupyterDash\n",
    "import plotly.express as px\n",
    "\n",
    "#import plotly.io as pio\n",
    "#pio.renderers.default = \"notebook\""
   ]
  },
  {
   "cell_type": "markdown",
   "metadata": {
    "slideshow": {
     "slide_type": "slide"
    }
   },
   "source": [
    "# Apresentação Alforriah\n",
    "## Bruno Perdigão"
   ]
  },
  {
   "cell_type": "markdown",
   "metadata": {
    "slideshow": {
     "slide_type": "slide"
    }
   },
   "source": [
    "#### Apresentação\n",
    "\n",
    "- Me chamo Bruno Perdigão. Sou arquiteto e trabalho com desenvolvimento de projetos de edificações.\n",
    "- Comecei a estudar python para desenvolver meus conhecimentos sobre design computacional e acabei entrando em contato com o mundo da Ciência de Dados.\n",
    "- Atualmente estou me qualificando nesta área e busco aliar meus novos conhecimentos com a minha experiênciam em arquitetura."
   ]
  },
  {
   "cell_type": "markdown",
   "metadata": {
    "slideshow": {
     "slide_type": "slide"
    }
   },
   "source": [
    "![bg 75%](Python-Energy+.png)"
   ]
  },
  {
   "cell_type": "markdown",
   "metadata": {
    "slideshow": {
     "slide_type": "slide"
    }
   },
   "source": [
    "![bg 80%](curso-edx.png)\n",
    "Curso criado por Clayton Miller - Professor assistente na National University of Singapore"
   ]
  },
  {
   "cell_type": "markdown",
   "metadata": {
    "slideshow": {
     "slide_type": "slide"
    }
   },
   "source": [
    "### O conjunto de dados\n",
    "\n",
    "Os dados utilizados para esse trabalho foram fornecidos no curso do prof. Clayton Miller mencionado anteriormente. É formado pela mediação de gastos energéticos de edificações, medido por sensores conectados aos edifícios. Parte desse conjunto é formado por dados publicamente disponíveis e outros foram feitos a partir da coleta privada em reuniões e visitas à setores de manutenção de edifícios."
   ]
  },
  {
   "cell_type": "markdown",
   "metadata": {
    "slideshow": {
     "slide_type": "slide"
    }
   },
   "source": [
    "![bg 32%](dataframe-dados-eletricos.png)\n",
    "\n",
    "\n",
    "Para manter a privacidade dos dados não publicizados foram utilizados \"apelidos\" para nomear o local e o edifício. A nomenclatura das colunas obedece a seguinte lógica: (Apelido do Local)_(Uso da edificação)_(Apelido do Edifício). Todas as medições dos dados de consumo elétricos foram convertidos para __kWh__."
   ]
  },
  {
   "cell_type": "code",
   "execution_count": 2,
   "metadata": {
    "slideshow": {
     "slide_type": "skip"
    }
   },
   "outputs": [
    {
     "data": {
      "text/html": [
       "<div>\n",
       "<style scoped>\n",
       "    .dataframe tbody tr th:only-of-type {\n",
       "        vertical-align: middle;\n",
       "    }\n",
       "\n",
       "    .dataframe tbody tr th {\n",
       "        vertical-align: top;\n",
       "    }\n",
       "\n",
       "    .dataframe thead th {\n",
       "        text-align: right;\n",
       "    }\n",
       "</style>\n",
       "<table border=\"1\" class=\"dataframe\">\n",
       "  <thead>\n",
       "    <tr style=\"text-align: right;\">\n",
       "      <th></th>\n",
       "      <th>site_id</th>\n",
       "      <th>airTemperature</th>\n",
       "    </tr>\n",
       "    <tr>\n",
       "      <th>timestamp</th>\n",
       "      <th></th>\n",
       "      <th></th>\n",
       "    </tr>\n",
       "  </thead>\n",
       "  <tbody>\n",
       "    <tr>\n",
       "      <th>2016-01-01 00:00:00</th>\n",
       "      <td>Panther</td>\n",
       "      <td>19.4</td>\n",
       "    </tr>\n",
       "    <tr>\n",
       "      <th>2016-01-01 01:00:00</th>\n",
       "      <td>Panther</td>\n",
       "      <td>21.1</td>\n",
       "    </tr>\n",
       "    <tr>\n",
       "      <th>2016-01-01 02:00:00</th>\n",
       "      <td>Panther</td>\n",
       "      <td>21.1</td>\n",
       "    </tr>\n",
       "    <tr>\n",
       "      <th>2016-01-01 03:00:00</th>\n",
       "      <td>Panther</td>\n",
       "      <td>20.6</td>\n",
       "    </tr>\n",
       "    <tr>\n",
       "      <th>2016-01-01 04:00:00</th>\n",
       "      <td>Panther</td>\n",
       "      <td>21.1</td>\n",
       "    </tr>\n",
       "    <tr>\n",
       "      <th>...</th>\n",
       "      <td>...</td>\n",
       "      <td>...</td>\n",
       "    </tr>\n",
       "    <tr>\n",
       "      <th>2017-12-31 19:00:00</th>\n",
       "      <td>Mouse</td>\n",
       "      <td>8.5</td>\n",
       "    </tr>\n",
       "    <tr>\n",
       "      <th>2017-12-31 20:00:00</th>\n",
       "      <td>Mouse</td>\n",
       "      <td>8.5</td>\n",
       "    </tr>\n",
       "    <tr>\n",
       "      <th>2017-12-31 21:00:00</th>\n",
       "      <td>Mouse</td>\n",
       "      <td>8.2</td>\n",
       "    </tr>\n",
       "    <tr>\n",
       "      <th>2017-12-31 22:00:00</th>\n",
       "      <td>Mouse</td>\n",
       "      <td>7.5</td>\n",
       "    </tr>\n",
       "    <tr>\n",
       "      <th>2017-12-31 23:00:00</th>\n",
       "      <td>Mouse</td>\n",
       "      <td>7.2</td>\n",
       "    </tr>\n",
       "  </tbody>\n",
       "</table>\n",
       "<p>331166 rows × 2 columns</p>\n",
       "</div>"
      ],
      "text/plain": [
       "                     site_id  airTemperature\n",
       "timestamp                                   \n",
       "2016-01-01 00:00:00  Panther            19.4\n",
       "2016-01-01 01:00:00  Panther            21.1\n",
       "2016-01-01 02:00:00  Panther            21.1\n",
       "2016-01-01 03:00:00  Panther            20.6\n",
       "2016-01-01 04:00:00  Panther            21.1\n",
       "...                      ...             ...\n",
       "2017-12-31 19:00:00    Mouse             8.5\n",
       "2017-12-31 20:00:00    Mouse             8.5\n",
       "2017-12-31 21:00:00    Mouse             8.2\n",
       "2017-12-31 22:00:00    Mouse             7.5\n",
       "2017-12-31 23:00:00    Mouse             7.2\n",
       "\n",
       "[331166 rows x 2 columns]"
      ]
     },
     "execution_count": 2,
     "metadata": {},
     "output_type": "execute_result"
    }
   ],
   "source": [
    "df = pd.read_csv(\"D:/Sync/Profissional/Análise de Dados/Conjunto de Dados/building-data-genome-project-2/data/weather/weather.csv\", index_col='timestamp', parse_dates=True)\n",
    "df = df.iloc[:,:2]\n",
    "df = df.fillna(method='ffill')\n",
    "df"
   ]
  },
  {
   "cell_type": "code",
   "execution_count": 3,
   "metadata": {
    "slideshow": {
     "slide_type": "skip"
    }
   },
   "outputs": [
    {
     "data": {
      "text/html": [
       "<div>\n",
       "<style scoped>\n",
       "    .dataframe tbody tr th:only-of-type {\n",
       "        vertical-align: middle;\n",
       "    }\n",
       "\n",
       "    .dataframe tbody tr th {\n",
       "        vertical-align: top;\n",
       "    }\n",
       "\n",
       "    .dataframe thead th {\n",
       "        text-align: right;\n",
       "    }\n",
       "</style>\n",
       "<table border=\"1\" class=\"dataframe\">\n",
       "  <thead>\n",
       "    <tr style=\"text-align: right;\">\n",
       "      <th></th>\n",
       "      <th>timestamp</th>\n",
       "      <th>site_id</th>\n",
       "      <th>airTemperature</th>\n",
       "    </tr>\n",
       "  </thead>\n",
       "  <tbody>\n",
       "    <tr>\n",
       "      <th>0</th>\n",
       "      <td>2016-01-01</td>\n",
       "      <td>Bear</td>\n",
       "      <td>6.175000</td>\n",
       "    </tr>\n",
       "    <tr>\n",
       "      <th>1</th>\n",
       "      <td>2016-01-02</td>\n",
       "      <td>Bear</td>\n",
       "      <td>8.087500</td>\n",
       "    </tr>\n",
       "    <tr>\n",
       "      <th>2</th>\n",
       "      <td>2016-01-03</td>\n",
       "      <td>Bear</td>\n",
       "      <td>10.112500</td>\n",
       "    </tr>\n",
       "    <tr>\n",
       "      <th>3</th>\n",
       "      <td>2016-01-04</td>\n",
       "      <td>Bear</td>\n",
       "      <td>11.270833</td>\n",
       "    </tr>\n",
       "    <tr>\n",
       "      <th>4</th>\n",
       "      <td>2016-01-05</td>\n",
       "      <td>Bear</td>\n",
       "      <td>10.962500</td>\n",
       "    </tr>\n",
       "    <tr>\n",
       "      <th>...</th>\n",
       "      <td>...</td>\n",
       "      <td>...</td>\n",
       "      <td>...</td>\n",
       "    </tr>\n",
       "    <tr>\n",
       "      <th>13884</th>\n",
       "      <td>2017-12-27</td>\n",
       "      <td>Wolf</td>\n",
       "      <td>0.862500</td>\n",
       "    </tr>\n",
       "    <tr>\n",
       "      <th>13885</th>\n",
       "      <td>2017-12-28</td>\n",
       "      <td>Wolf</td>\n",
       "      <td>0.762500</td>\n",
       "    </tr>\n",
       "    <tr>\n",
       "      <th>13886</th>\n",
       "      <td>2017-12-29</td>\n",
       "      <td>Wolf</td>\n",
       "      <td>4.787500</td>\n",
       "    </tr>\n",
       "    <tr>\n",
       "      <th>13887</th>\n",
       "      <td>2017-12-30</td>\n",
       "      <td>Wolf</td>\n",
       "      <td>6.687500</td>\n",
       "    </tr>\n",
       "    <tr>\n",
       "      <th>13888</th>\n",
       "      <td>2017-12-31</td>\n",
       "      <td>Wolf</td>\n",
       "      <td>6.733333</td>\n",
       "    </tr>\n",
       "  </tbody>\n",
       "</table>\n",
       "<p>13889 rows × 3 columns</p>\n",
       "</div>"
      ],
      "text/plain": [
       "       timestamp site_id  airTemperature\n",
       "0     2016-01-01    Bear        6.175000\n",
       "1     2016-01-02    Bear        8.087500\n",
       "2     2016-01-03    Bear       10.112500\n",
       "3     2016-01-04    Bear       11.270833\n",
       "4     2016-01-05    Bear       10.962500\n",
       "...          ...     ...             ...\n",
       "13884 2017-12-27    Wolf        0.862500\n",
       "13885 2017-12-28    Wolf        0.762500\n",
       "13886 2017-12-29    Wolf        4.787500\n",
       "13887 2017-12-30    Wolf        6.687500\n",
       "13888 2017-12-31    Wolf        6.733333\n",
       "\n",
       "[13889 rows x 3 columns]"
      ]
     },
     "execution_count": 3,
     "metadata": {},
     "output_type": "execute_result"
    }
   ],
   "source": [
    "df = df.pivot(columns='site_id', values='airTemperature')\n",
    "df = df.resample(\"D\").mean() # Só funciona com datetime como index\n",
    "df = df.reset_index()\n",
    "df = df.melt(id_vars=['timestamp'], value_vars=df.columns)\n",
    "df = df.rename(columns={'value': 'airTemperature'})\n",
    "df\n",
    "\n"
   ]
  },
  {
   "cell_type": "code",
   "execution_count": 4,
   "metadata": {
    "slideshow": {
     "slide_type": "skip"
    },
    "tags": [
     "to_remove"
    ]
   },
   "outputs": [
    {
     "data": {
      "text/plain": [
       "\"\\napp = JupyterDash(__name__)\\napp.layout = html.Div([\\n    html.Div([\\n        dcc.Markdown('# Título')\\n    ]),\\n    html.Div([\\n        dcc.Dropdown(df['site_id'].unique(), 'Panther', id='site_id_drop')\\n    ]),\\n    html.Div([\\n        dcc.Graph(id='temperature_by_site')\\n    ])\\n])\\n\\n@app.callback(\\n    Output('temperature_by_site', 'figure'),\\n    Input('site_id_drop', 'value')\\n)\\ndef update_graph(dropdown_value):    \\n    fig = px.line(df, x=df[df['site_id'] == dropdown_value]['timestamp'], y=df[df['site_id'] == dropdown_value]['airTemperature'])\\n\\n    return fig\\n\\napp.run_server(mode='inline')\""
      ]
     },
     "execution_count": 4,
     "metadata": {},
     "output_type": "execute_result"
    }
   ],
   "source": [
    "'''\n",
    "app = JupyterDash(__name__)\n",
    "app.layout = html.Div([\n",
    "    html.Div([\n",
    "        dcc.Markdown('# Título')\n",
    "    ]),\n",
    "    html.Div([\n",
    "        dcc.Dropdown(df['site_id'].unique(), 'Panther', id='site_id_drop')\n",
    "    ]),\n",
    "    html.Div([\n",
    "        dcc.Graph(id='temperature_by_site')\n",
    "    ])\n",
    "])\n",
    "\n",
    "@app.callback(\n",
    "    Output('temperature_by_site', 'figure'),\n",
    "    Input('site_id_drop', 'value')\n",
    ")\n",
    "def update_graph(dropdown_value):    \n",
    "    fig = px.line(df, x=df[df['site_id'] == dropdown_value]['timestamp'], y=df[df['site_id'] == dropdown_value]['airTemperature'])\n",
    "\n",
    "    return fig\n",
    "\n",
    "app.run_server(mode='inline')'''"
   ]
  },
  {
   "cell_type": "code",
   "execution_count": 5,
   "metadata": {
    "slideshow": {
     "slide_type": "skip"
    }
   },
   "outputs": [
    {
     "data": {
      "text/plain": [
       "(datetime.datetime(2016, 1, 1, 0, 0), datetime.datetime(2017, 12, 31, 0, 0))"
      ]
     },
     "execution_count": 5,
     "metadata": {},
     "output_type": "execute_result"
    }
   ],
   "source": [
    "start = df['timestamp'].min().to_pydatetime()\n",
    "end = df['timestamp'].max().to_pydatetime()\n",
    "start, end"
   ]
  },
  {
   "cell_type": "code",
   "execution_count": 7,
   "metadata": {
    "slideshow": {
     "slide_type": "slide"
    }
   },
   "outputs": [
    {
     "data": {
      "text/html": [
       "\n",
       "        <iframe\n",
       "            width=\"100%\"\n",
       "            height=\"650\"\n",
       "            src=\"http://127.0.0.1:8050/\"\n",
       "            frameborder=\"0\"\n",
       "            allowfullscreen\n",
       "            \n",
       "        ></iframe>\n",
       "        "
      ],
      "text/plain": [
       "<IPython.lib.display.IFrame at 0x2aac021a110>"
      ]
     },
     "metadata": {},
     "output_type": "display_data"
    }
   ],
   "source": [
    "app = JupyterDash(__name__)\n",
    "app.layout = html.Div([\n",
    "    html.Div([\n",
    "        dcc.Markdown('# Dados de temperatura de cada local')\n",
    "    ]),\n",
    "    html.Div([\n",
    "        dcc.Checklist(\n",
    "            df['site_id'].unique(),\n",
    "            ['Panther'],\n",
    "            id='site_id_drop')\n",
    "    ]),\n",
    "    html.Div([\n",
    "        dcc.Graph(id='temperature_by_site')\n",
    "    ]),\n",
    "    html.Div([\n",
    "        dcc.DatePickerRange(\n",
    "            start_date=start,\n",
    "            end_date=end,\n",
    "            min_date_allowed=start,\n",
    "            max_date_allowed=end,\n",
    "            initial_visible_month=start,\n",
    "            calendar_orientation='vertical',\n",
    "            display_format='DD/MM/YYYY',\n",
    "            id='date_picker')   \n",
    "    ])\n",
    "])\n",
    "\n",
    "@app.callback(\n",
    "    Output('temperature_by_site', 'figure'),\n",
    "    Input('site_id_drop', 'value'),\n",
    "    Input('date_picker', 'start_date'),\n",
    "    Input('date_picker', 'end_date')\n",
    ")\n",
    "def update_graph(dropdown_value, start, end):\n",
    "    idf = df[(df['timestamp'] > start) & (df['timestamp'] < end)]\n",
    "\n",
    "    fig = px.line(idf,\n",
    "                x=idf[idf['site_id'].isin(dropdown_value)]['timestamp'],\n",
    "                y=idf[idf['site_id'].isin(dropdown_value)]['airTemperature'],\n",
    "                color=idf[idf['site_id'].isin(dropdown_value)]['site_id']\n",
    "        )\n",
    "\n",
    "    return fig\n",
    "\n",
    "app.run_server(mode='inline')"
   ]
  }
 ],
 "metadata": {
  "celltoolbar": "Slideshow",
  "interpreter": {
   "hash": "11396191eb94b9605adc22981ec9b2eb36273c69ffe492a46da3f475f2b3073c"
  },
  "kernelspec": {
   "display_name": "ambiente_virtual",
   "language": "python",
   "name": "ambiente_virtual"
  },
  "language_info": {
   "codemirror_mode": {
    "name": "ipython",
    "version": 3
   },
   "file_extension": ".py",
   "mimetype": "text/x-python",
   "name": "python",
   "nbconvert_exporter": "python",
   "pygments_lexer": "ipython3",
   "version": "3.10.0"
  }
 },
 "nbformat": 4,
 "nbformat_minor": 2
}
