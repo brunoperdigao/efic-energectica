{
 "cells": [
  {
   "cell_type": "code",
   "execution_count": 1,
   "metadata": {},
   "outputs": [],
   "source": [
    "import pandas as pd\n",
    "import matplotlib.pyplot as plt\n",
    "import seaborn as sns\n",
    "\n",
    "metadata = pd.read_csv(\"../../../Análise de Dados/Conjunto de Dados/the-building-data-genome-project/data/raw/meta_open.csv\")"
   ]
  },
  {
   "cell_type": "code",
   "execution_count": 3,
   "metadata": {},
   "outputs": [
    {
     "name": "stdout",
     "output_type": "stream",
     "text": [
      "<class 'pandas.core.frame.DataFrame'>\n",
      "RangeIndex: 507 entries, 0 to 506\n",
      "Data columns (total 19 columns):\n",
      " #   Column                  Non-Null Count  Dtype  \n",
      "---  ------                  --------------  -----  \n",
      " 0   uid                     507 non-null    object \n",
      " 1   dataend                 507 non-null    object \n",
      " 2   datastart               507 non-null    object \n",
      " 3   energystarscore         26 non-null     float64\n",
      " 4   heatingtype             124 non-null    object \n",
      " 5   industry                507 non-null    object \n",
      " 6   mainheatingtype         122 non-null    object \n",
      " 7   numberoffloors          124 non-null    float64\n",
      " 8   occupants               105 non-null    float64\n",
      " 9   primaryspaceusage       507 non-null    object \n",
      " 10  rating                  131 non-null    object \n",
      " 11  sqft                    507 non-null    float64\n",
      " 12  sqm                     507 non-null    float64\n",
      " 13  subindustry             507 non-null    object \n",
      " 14  timezone                507 non-null    object \n",
      " 15  yearbuilt               313 non-null    object \n",
      " 16  nickname                507 non-null    object \n",
      " 17  primaryspaceuse_abbrev  507 non-null    object \n",
      " 18  newweatherfilename      507 non-null    object \n",
      "dtypes: float64(5), object(14)\n",
      "memory usage: 75.4+ KB\n"
     ]
    }
   ],
   "source": [
    "metadata.info()"
   ]
  }
 ],
 "metadata": {
  "interpreter": {
   "hash": "5aed0bbbb456f8fcbb6679b4ca58f35974c62c21dd186d1af91e4e6f97e4e108"
  },
  "kernelspec": {
   "display_name": "Python 3.10.0 64-bit ('ambiente_virtual': venv)",
   "language": "python",
   "name": "python3"
  },
  "language_info": {
   "codemirror_mode": {
    "name": "ipython",
    "version": 3
   },
   "file_extension": ".py",
   "mimetype": "text/x-python",
   "name": "python",
   "nbconvert_exporter": "python",
   "pygments_lexer": "ipython3",
   "version": "3.10.0"
  },
  "orig_nbformat": 4
 },
 "nbformat": 4,
 "nbformat_minor": 2
}
