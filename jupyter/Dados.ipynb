{
 "cells": [
  {
   "cell_type": "markdown",
   "metadata": {},
   "source": [
    "# Análise de dados elétricos de eficiência energética em edificações\n",
    "\n",
    "## Explorando os dados elétricos"
   ]
  },
  {
   "cell_type": "code",
   "execution_count": 1,
   "metadata": {},
   "outputs": [],
   "source": [
    "import pandas as pd\n",
    "import matplotlib.pyplot as plt"
   ]
  },
  {
   "cell_type": "code",
   "execution_count": 2,
   "metadata": {},
   "outputs": [],
   "source": [
    "dados_eletricos = pd.read_csv(\"../data/raw_data/data/meters/raw/electricity.csv\")"
   ]
  },
  {
   "cell_type": "code",
   "execution_count": 3,
   "metadata": {},
   "outputs": [
    {
     "data": {
      "text/html": [
       "<div>\n",
       "<style scoped>\n",
       "    .dataframe tbody tr th:only-of-type {\n",
       "        vertical-align: middle;\n",
       "    }\n",
       "\n",
       "    .dataframe tbody tr th {\n",
       "        vertical-align: top;\n",
       "    }\n",
       "\n",
       "    .dataframe thead th {\n",
       "        text-align: right;\n",
       "    }\n",
       "</style>\n",
       "<table border=\"1\" class=\"dataframe\">\n",
       "  <thead>\n",
       "    <tr style=\"text-align: right;\">\n",
       "      <th></th>\n",
       "      <th>timestamp</th>\n",
       "      <th>Panther_parking_Lorriane</th>\n",
       "      <th>Panther_lodging_Cora</th>\n",
       "      <th>Panther_office_Hannah</th>\n",
       "      <th>Panther_lodging_Hattie</th>\n",
       "      <th>Panther_education_Teofila</th>\n",
       "      <th>Panther_education_Jerome</th>\n",
       "      <th>Panther_retail_Felix</th>\n",
       "      <th>Panther_parking_Asia</th>\n",
       "      <th>Panther_education_Misty</th>\n",
       "      <th>...</th>\n",
       "      <th>Cockatoo_public_Caleb</th>\n",
       "      <th>Cockatoo_education_Tyler</th>\n",
       "      <th>Cockatoo_public_Shad</th>\n",
       "      <th>Mouse_health_Buddy</th>\n",
       "      <th>Mouse_health_Modesto</th>\n",
       "      <th>Mouse_lodging_Vicente</th>\n",
       "      <th>Mouse_health_Justin</th>\n",
       "      <th>Mouse_health_Ileana</th>\n",
       "      <th>Mouse_health_Estela</th>\n",
       "      <th>Mouse_science_Micheal</th>\n",
       "    </tr>\n",
       "  </thead>\n",
       "  <tbody>\n",
       "    <tr>\n",
       "      <th>0</th>\n",
       "      <td>2016-01-01 00:00:00</td>\n",
       "      <td>0.0</td>\n",
       "      <td>0.0</td>\n",
       "      <td>0.0</td>\n",
       "      <td>0.0</td>\n",
       "      <td>0.0</td>\n",
       "      <td>0.0</td>\n",
       "      <td>0.0</td>\n",
       "      <td>0.0</td>\n",
       "      <td>0.0</td>\n",
       "      <td>...</td>\n",
       "      <td>123.200</td>\n",
       "      <td>727.575</td>\n",
       "      <td>69.200</td>\n",
       "      <td>8.8224</td>\n",
       "      <td>370.0870</td>\n",
       "      <td>10.0</td>\n",
       "      <td>282.9965</td>\n",
       "      <td>26.0</td>\n",
       "      <td>135.0</td>\n",
       "      <td>168.2243</td>\n",
       "    </tr>\n",
       "    <tr>\n",
       "      <th>1</th>\n",
       "      <td>2016-01-01 01:00:00</td>\n",
       "      <td>0.0</td>\n",
       "      <td>0.0</td>\n",
       "      <td>0.0</td>\n",
       "      <td>0.0</td>\n",
       "      <td>0.0</td>\n",
       "      <td>0.0</td>\n",
       "      <td>0.0</td>\n",
       "      <td>0.0</td>\n",
       "      <td>0.0</td>\n",
       "      <td>...</td>\n",
       "      <td>126.475</td>\n",
       "      <td>731.200</td>\n",
       "      <td>66.275</td>\n",
       "      <td>17.6449</td>\n",
       "      <td>737.8260</td>\n",
       "      <td>30.0</td>\n",
       "      <td>574.9265</td>\n",
       "      <td>51.0</td>\n",
       "      <td>265.0</td>\n",
       "      <td>336.4486</td>\n",
       "    </tr>\n",
       "    <tr>\n",
       "      <th>2</th>\n",
       "      <td>2016-01-01 02:00:00</td>\n",
       "      <td>0.0</td>\n",
       "      <td>0.0</td>\n",
       "      <td>0.0</td>\n",
       "      <td>0.0</td>\n",
       "      <td>0.0</td>\n",
       "      <td>0.0</td>\n",
       "      <td>0.0</td>\n",
       "      <td>0.0</td>\n",
       "      <td>0.0</td>\n",
       "      <td>...</td>\n",
       "      <td>127.825</td>\n",
       "      <td>724.675</td>\n",
       "      <td>64.675</td>\n",
       "      <td>17.6449</td>\n",
       "      <td>729.9255</td>\n",
       "      <td>30.0</td>\n",
       "      <td>570.2780</td>\n",
       "      <td>50.0</td>\n",
       "      <td>272.0</td>\n",
       "      <td>336.4486</td>\n",
       "    </tr>\n",
       "    <tr>\n",
       "      <th>3</th>\n",
       "      <td>2016-01-01 03:00:00</td>\n",
       "      <td>0.0</td>\n",
       "      <td>0.0</td>\n",
       "      <td>0.0</td>\n",
       "      <td>0.0</td>\n",
       "      <td>0.0</td>\n",
       "      <td>0.0</td>\n",
       "      <td>0.0</td>\n",
       "      <td>0.0</td>\n",
       "      <td>0.0</td>\n",
       "      <td>...</td>\n",
       "      <td>130.475</td>\n",
       "      <td>737.375</td>\n",
       "      <td>65.875</td>\n",
       "      <td>17.6449</td>\n",
       "      <td>722.2620</td>\n",
       "      <td>20.0</td>\n",
       "      <td>561.1470</td>\n",
       "      <td>52.0</td>\n",
       "      <td>276.0</td>\n",
       "      <td>336.4486</td>\n",
       "    </tr>\n",
       "    <tr>\n",
       "      <th>4</th>\n",
       "      <td>2016-01-01 04:00:00</td>\n",
       "      <td>0.0</td>\n",
       "      <td>0.0</td>\n",
       "      <td>0.0</td>\n",
       "      <td>0.0</td>\n",
       "      <td>0.0</td>\n",
       "      <td>0.0</td>\n",
       "      <td>0.0</td>\n",
       "      <td>0.0</td>\n",
       "      <td>0.0</td>\n",
       "      <td>...</td>\n",
       "      <td>129.675</td>\n",
       "      <td>721.150</td>\n",
       "      <td>66.275</td>\n",
       "      <td>17.6449</td>\n",
       "      <td>719.1665</td>\n",
       "      <td>30.0</td>\n",
       "      <td>564.3695</td>\n",
       "      <td>50.0</td>\n",
       "      <td>280.0</td>\n",
       "      <td>336.4486</td>\n",
       "    </tr>\n",
       "  </tbody>\n",
       "</table>\n",
       "<p>5 rows × 1579 columns</p>\n",
       "</div>"
      ],
      "text/plain": [
       "             timestamp  Panther_parking_Lorriane  Panther_lodging_Cora  \\\n",
       "0  2016-01-01 00:00:00                       0.0                   0.0   \n",
       "1  2016-01-01 01:00:00                       0.0                   0.0   \n",
       "2  2016-01-01 02:00:00                       0.0                   0.0   \n",
       "3  2016-01-01 03:00:00                       0.0                   0.0   \n",
       "4  2016-01-01 04:00:00                       0.0                   0.0   \n",
       "\n",
       "   Panther_office_Hannah  Panther_lodging_Hattie  Panther_education_Teofila  \\\n",
       "0                    0.0                     0.0                        0.0   \n",
       "1                    0.0                     0.0                        0.0   \n",
       "2                    0.0                     0.0                        0.0   \n",
       "3                    0.0                     0.0                        0.0   \n",
       "4                    0.0                     0.0                        0.0   \n",
       "\n",
       "   Panther_education_Jerome  Panther_retail_Felix  Panther_parking_Asia  \\\n",
       "0                       0.0                   0.0                   0.0   \n",
       "1                       0.0                   0.0                   0.0   \n",
       "2                       0.0                   0.0                   0.0   \n",
       "3                       0.0                   0.0                   0.0   \n",
       "4                       0.0                   0.0                   0.0   \n",
       "\n",
       "   Panther_education_Misty  ...  Cockatoo_public_Caleb  \\\n",
       "0                      0.0  ...                123.200   \n",
       "1                      0.0  ...                126.475   \n",
       "2                      0.0  ...                127.825   \n",
       "3                      0.0  ...                130.475   \n",
       "4                      0.0  ...                129.675   \n",
       "\n",
       "   Cockatoo_education_Tyler  Cockatoo_public_Shad  Mouse_health_Buddy  \\\n",
       "0                   727.575                69.200              8.8224   \n",
       "1                   731.200                66.275             17.6449   \n",
       "2                   724.675                64.675             17.6449   \n",
       "3                   737.375                65.875             17.6449   \n",
       "4                   721.150                66.275             17.6449   \n",
       "\n",
       "   Mouse_health_Modesto  Mouse_lodging_Vicente  Mouse_health_Justin  \\\n",
       "0              370.0870                   10.0             282.9965   \n",
       "1              737.8260                   30.0             574.9265   \n",
       "2              729.9255                   30.0             570.2780   \n",
       "3              722.2620                   20.0             561.1470   \n",
       "4              719.1665                   30.0             564.3695   \n",
       "\n",
       "   Mouse_health_Ileana  Mouse_health_Estela  Mouse_science_Micheal  \n",
       "0                 26.0                135.0               168.2243  \n",
       "1                 51.0                265.0               336.4486  \n",
       "2                 50.0                272.0               336.4486  \n",
       "3                 52.0                276.0               336.4486  \n",
       "4                 50.0                280.0               336.4486  \n",
       "\n",
       "[5 rows x 1579 columns]"
      ]
     },
     "execution_count": 3,
     "metadata": {},
     "output_type": "execute_result"
    }
   ],
   "source": [
    "dados_eletricos.head()"
   ]
  },
  {
   "cell_type": "markdown",
   "metadata": {},
   "source": [
    "Os edifícios são classificados por tipo. Talvez seja importante escolher um tipo específico para poder comparar. Posso escolher um tipo mais comum e que tenha a maior quantidade de dados."
   ]
  },
  {
   "cell_type": "code",
   "execution_count": 4,
   "metadata": {},
   "outputs": [
    {
     "name": "stdout",
     "output_type": "stream",
     "text": [
      "<class 'pandas.core.frame.DataFrame'>\n",
      "RangeIndex: 17544 entries, 0 to 17543\n",
      "Columns: 296 entries, Panther_office_Hannah to Cockatoo_office_Ada\n",
      "dtypes: float64(296)\n",
      "memory usage: 39.6 MB\n"
     ]
    }
   ],
   "source": [
    "dados_eletricos_office = []\n",
    "for col in dados_eletricos.columns:\n",
    "    if \"office\" in col:\n",
    "        dados_eletricos_office.append(col)\n",
    "dados_eletricos_office = dados_eletricos.loc[:,dados_eletricos_office]\n",
    "dados_eletricos_office.info()"
   ]
  },
  {
   "cell_type": "code",
   "execution_count": 5,
   "metadata": {},
   "outputs": [
    {
     "name": "stdout",
     "output_type": "stream",
     "text": [
      "<class 'pandas.core.frame.DataFrame'>\n",
      "RangeIndex: 17544 entries, 0 to 17543\n",
      "Columns: 604 entries, Panther_education_Teofila to Cockatoo_education_Tyler\n",
      "dtypes: float64(604)\n",
      "memory usage: 80.8 MB\n"
     ]
    }
   ],
   "source": [
    "dados_eletricos_education = []\n",
    "for col in dados_eletricos.columns:\n",
    "    if \"education\" in col:\n",
    "        dados_eletricos_education.append(col)\n",
    "dados_eletricos_education = dados_eletricos.loc[:,dados_eletricos_education]\n",
    "dados_eletricos_education.info()"
   ]
  },
  {
   "cell_type": "markdown",
   "metadata": {},
   "source": [
    "Comparando as duas listas, são 296 edifícios de escritório e 604 edifício de educação.\n",
    "\n",
    "## Importando os metadados de localização"
   ]
  },
  {
   "cell_type": "markdown",
   "metadata": {},
   "source": [
    "## Explorando os metadados"
   ]
  },
  {
   "cell_type": "code",
   "execution_count": 6,
   "metadata": {},
   "outputs": [
    {
     "name": "stdout",
     "output_type": "stream",
     "text": [
      "<class 'pandas.core.frame.DataFrame'>\n",
      "RangeIndex: 1636 entries, 0 to 1635\n",
      "Data columns (total 32 columns):\n",
      " #   Column                 Non-Null Count  Dtype  \n",
      "---  ------                 --------------  -----  \n",
      " 0   building_id            1636 non-null   object \n",
      " 1   site_id                1636 non-null   object \n",
      " 2   building_id_kaggle     1449 non-null   float64\n",
      " 3   site_id_kaggle         1599 non-null   float64\n",
      " 4   primaryspaceusage      1615 non-null   object \n",
      " 5   sub_primaryspaceusage  1615 non-null   object \n",
      " 6   sqm                    1636 non-null   float64\n",
      " 7   sqft                   1636 non-null   float64\n",
      " 8   lat                    1399 non-null   float64\n",
      " 9   lng                    1399 non-null   float64\n",
      " 10  timezone               1636 non-null   object \n",
      " 11  electricity            1578 non-null   object \n",
      " 12  hotwater               185 non-null    object \n",
      " 13  chilledwater           555 non-null    object \n",
      " 14  steam                  370 non-null    object \n",
      " 15  water                  146 non-null    object \n",
      " 16  irrigation             37 non-null     object \n",
      " 17  solar                  5 non-null      object \n",
      " 18  gas                    177 non-null    object \n",
      " 19  industry               579 non-null    object \n",
      " 20  subindustry            579 non-null    object \n",
      " 21  heatingtype            215 non-null    object \n",
      " 22  yearbuilt              817 non-null    float64\n",
      " 23  date_opened            21 non-null     object \n",
      " 24  numberoffloors         441 non-null    float64\n",
      " 25  occupants              230 non-null    float64\n",
      " 26  energystarscore        163 non-null    object \n",
      " 27  eui                    299 non-null    object \n",
      " 28  site_eui               163 non-null    object \n",
      " 29  source_eui             163 non-null    object \n",
      " 30  leed_level             136 non-null    object \n",
      " 31  rating                 184 non-null    object \n",
      "dtypes: float64(9), object(23)\n",
      "memory usage: 409.1+ KB\n"
     ]
    }
   ],
   "source": [
    "metadados = pd.read_csv(\"../data/raw_data/data/metadata/metadata.csv\")\n",
    "metadados.info()"
   ]
  },
  {
   "cell_type": "markdown",
   "metadata": {},
   "source": [
    "Desses itens vou precisar de:\n",
    "- `sqm`: para saber a eficiência de uso de energia por metro quadrado;\n",
    "- `lat`: para saber quais edifícios estão em uma localização de zonas mais frias (não-tropicais)? Tenho que pensar melhor esse critério;\n",
    "- `heatingtype`: talvez seja importante;\n",
    "\n",
    "É importante notar que dos 1636 edifícios, mais de 1500 possuem dados de energia. Portanto, justifica focar nessa medição."
   ]
  },
  {
   "cell_type": "code",
   "execution_count": 7,
   "metadata": {},
   "outputs": [
    {
     "data": {
      "text/plain": [
       "<AxesSubplot:xlabel='building_id', ylabel='sqm'>"
      ]
     },
     "execution_count": 7,
     "metadata": {},
     "output_type": "execute_result"
    },
    {
     "data": {
      "image/png": "[encoded data removed]",
      "text/plain": [
       "<Figure size 432x288 with 1 Axes>"
      ]
     },
     "metadata": {
      "needs_background": "light"
     },
     "output_type": "display_data"
    }
   ],
   "source": [
    "metadados.plot.scatter(\"building_id\", \"sqm\")"
   ]
  },
  {
   "cell_type": "markdown",
   "metadata": {},
   "source": [
    "Dá para perceber que existem muitos edifícios em localização parecidas pela linearidade das latitudes. Pensar critérios para escolher o clima baseado na latitude."
   ]
  },
  {
   "cell_type": "code",
   "execution_count": 8,
   "metadata": {},
   "outputs": [
    {
     "data": {
      "text/plain": [
       "<AxesSubplot:xlabel='building_id', ylabel='lat'>"
      ]
     },
     "execution_count": 8,
     "metadata": {},
     "output_type": "execute_result"
    },
    {
     "data": {
      "image/png": "[encoded data removed]",
      "text/plain": [
       "<Figure size 432x288 with 1 Axes>"
      ]
     },
     "metadata": {
      "needs_background": "light"
     },
     "output_type": "display_data"
    }
   ],
   "source": [
    "#metadados[\"lat\"].plot()\n",
    "metadados.sort_values(\"lat\").plot.scatter(\"building_id\", \"lat\")"
   ]
  },
  {
   "cell_type": "markdown",
   "metadata": {},
   "source": [
    "A quantidade de dados sobre o `heatingtype` é muito pequena em relação à lista total. Eu tenho mais de 1500 dados sobre uso de energia, mas só 215 edifícios declaram o tipo de uso para aquecimento. Devo ignorar isso? "
   ]
  },
  {
   "cell_type": "code",
   "execution_count": 9,
   "metadata": {},
   "outputs": [
    {
     "data": {
      "text/plain": [
       "True     1421\n",
       "False     215\n",
       "Name: heatingtype, dtype: int64"
      ]
     },
     "execution_count": 9,
     "metadata": {},
     "output_type": "execute_result"
    }
   ],
   "source": [
    "metadados[\"heatingtype\"].isnull().value_counts()\n",
    "#metadados[\"heatingtype\"].value_counts().head().plot.bar()"
   ]
  },
  {
   "cell_type": "markdown",
   "metadata": {},
   "source": [
    "## Explorando os dados climáticos"
   ]
  },
  {
   "cell_type": "code",
   "execution_count": 10,
   "metadata": {},
   "outputs": [
    {
     "name": "stdout",
     "output_type": "stream",
     "text": [
      "<class 'pandas.core.frame.DataFrame'>\n",
      "RangeIndex: 331166 entries, 0 to 331165\n",
      "Data columns (total 10 columns):\n",
      " #   Column          Non-Null Count   Dtype  \n",
      "---  ------          --------------   -----  \n",
      " 0   timestamp       331166 non-null  object \n",
      " 1   site_id         331166 non-null  object \n",
      " 2   airTemperature  331038 non-null  float64\n",
      " 3   cloudCoverage   160179 non-null  float64\n",
      " 4   dewTemperature  330838 non-null  float64\n",
      " 5   precipDepth1HR  197980 non-null  float64\n",
      " 6   precipDepth6HR  18162 non-null   float64\n",
      " 7   seaLvlPressure  309542 non-null  float64\n",
      " 8   windDirection   318161 non-null  float64\n",
      " 9   windSpeed       330592 non-null  float64\n",
      "dtypes: float64(8), object(2)\n",
      "memory usage: 25.3+ MB\n"
     ]
    }
   ],
   "source": [
    "dados_climaticos = pd.read_csv(\"../data/raw_data/data/weather/weather.csv\")\n",
    "dados_climaticos.info()"
   ]
  },
  {
   "cell_type": "markdown",
   "metadata": {},
   "source": [
    "Vou utilizar principalmente a temperatura do ar (Dessa forma eu ainda preciso da latitude?)"
   ]
  },
  {
   "cell_type": "code",
   "execution_count": 14,
   "metadata": {},
   "outputs": [
    {
     "data": {
      "text/plain": [
       "22.80509092982156"
      ]
     },
     "execution_count": 14,
     "metadata": {},
     "output_type": "execute_result"
    }
   ],
   "source": [
    "dados_climaticos_panther = dados_climaticos[dados_climaticos[\"site_id\"] == \"Panther\"]\n",
    "dados_climaticos_panther[\"airTemperature\"].mean()"
   ]
  },
  {
   "cell_type": "code",
   "execution_count": 15,
   "metadata": {},
   "outputs": [
    {
     "data": {
      "text/plain": [
       "array(['Panther', 'Robin', 'Fox', 'Rat', 'Bear', 'Lamb', 'Peacock',\n",
       "       'Moose', 'Gator', 'Bull', 'Bobcat', 'Crow', 'Shrew', 'Swan',\n",
       "       'Wolf', 'Hog', 'Eagle', 'Cockatoo', 'Mouse'], dtype=object)"
      ]
     },
     "execution_count": 15,
     "metadata": {},
     "output_type": "execute_result"
    }
   ],
   "source": [
    "dados_climaticos[\"site_id\"].unique()"
   ]
  },
  {
   "cell_type": "code",
   "execution_count": 23,
   "metadata": {},
   "outputs": [
    {
     "data": {
      "text/html": [
       "<div>\n",
       "<style scoped>\n",
       "    .dataframe tbody tr th:only-of-type {\n",
       "        vertical-align: middle;\n",
       "    }\n",
       "\n",
       "    .dataframe tbody tr th {\n",
       "        vertical-align: top;\n",
       "    }\n",
       "\n",
       "    .dataframe thead th {\n",
       "        text-align: right;\n",
       "    }\n",
       "</style>\n",
       "<table border=\"1\" class=\"dataframe\">\n",
       "  <thead>\n",
       "    <tr style=\"text-align: right;\">\n",
       "      <th></th>\n",
       "      <th>site_id</th>\n",
       "      <th>mediumAirTemperature</th>\n",
       "    </tr>\n",
       "  </thead>\n",
       "  <tbody>\n",
       "    <tr>\n",
       "      <th>0</th>\n",
       "      <td>Panther</td>\n",
       "      <td>22.805091</td>\n",
       "    </tr>\n",
       "    <tr>\n",
       "      <th>1</th>\n",
       "      <td>Robin</td>\n",
       "      <td>11.842307</td>\n",
       "    </tr>\n",
       "    <tr>\n",
       "      <th>2</th>\n",
       "      <td>Fox</td>\n",
       "      <td>25.075584</td>\n",
       "    </tr>\n",
       "    <tr>\n",
       "      <th>3</th>\n",
       "      <td>Rat</td>\n",
       "      <td>15.661433</td>\n",
       "    </tr>\n",
       "    <tr>\n",
       "      <th>4</th>\n",
       "      <td>Bear</td>\n",
       "      <td>15.102759</td>\n",
       "    </tr>\n",
       "    <tr>\n",
       "      <th>5</th>\n",
       "      <td>Lamb</td>\n",
       "      <td>11.000171</td>\n",
       "    </tr>\n",
       "    <tr>\n",
       "      <th>6</th>\n",
       "      <td>Peacock</td>\n",
       "      <td>15.346297</td>\n",
       "    </tr>\n",
       "    <tr>\n",
       "      <th>7</th>\n",
       "      <td>Moose</td>\n",
       "      <td>7.798055</td>\n",
       "    </tr>\n",
       "    <tr>\n",
       "      <th>8</th>\n",
       "      <td>Gator</td>\n",
       "      <td>22.805091</td>\n",
       "    </tr>\n",
       "    <tr>\n",
       "      <th>9</th>\n",
       "      <td>Bull</td>\n",
       "      <td>21.586860</td>\n",
       "    </tr>\n",
       "    <tr>\n",
       "      <th>10</th>\n",
       "      <td>Bobcat</td>\n",
       "      <td>11.552921</td>\n",
       "    </tr>\n",
       "    <tr>\n",
       "      <th>11</th>\n",
       "      <td>Crow</td>\n",
       "      <td>7.798055</td>\n",
       "    </tr>\n",
       "    <tr>\n",
       "      <th>12</th>\n",
       "      <td>Shrew</td>\n",
       "      <td>11.842307</td>\n",
       "    </tr>\n",
       "    <tr>\n",
       "      <th>13</th>\n",
       "      <td>Swan</td>\n",
       "      <td>15.783595</td>\n",
       "    </tr>\n",
       "    <tr>\n",
       "      <th>14</th>\n",
       "      <td>Wolf</td>\n",
       "      <td>9.957812</td>\n",
       "    </tr>\n",
       "    <tr>\n",
       "      <th>15</th>\n",
       "      <td>Hog</td>\n",
       "      <td>9.561038</td>\n",
       "    </tr>\n",
       "    <tr>\n",
       "      <th>16</th>\n",
       "      <td>Eagle</td>\n",
       "      <td>13.168836</td>\n",
       "    </tr>\n",
       "    <tr>\n",
       "      <th>17</th>\n",
       "      <td>Cockatoo</td>\n",
       "      <td>9.267690</td>\n",
       "    </tr>\n",
       "    <tr>\n",
       "      <th>18</th>\n",
       "      <td>Mouse</td>\n",
       "      <td>11.842307</td>\n",
       "    </tr>\n",
       "  </tbody>\n",
       "</table>\n",
       "</div>"
      ],
      "text/plain": [
       "     site_id  mediumAirTemperature\n",
       "0    Panther             22.805091\n",
       "1      Robin             11.842307\n",
       "2        Fox             25.075584\n",
       "3        Rat             15.661433\n",
       "4       Bear             15.102759\n",
       "5       Lamb             11.000171\n",
       "6    Peacock             15.346297\n",
       "7      Moose              7.798055\n",
       "8      Gator             22.805091\n",
       "9       Bull             21.586860\n",
       "10    Bobcat             11.552921\n",
       "11      Crow              7.798055\n",
       "12     Shrew             11.842307\n",
       "13      Swan             15.783595\n",
       "14      Wolf              9.957812\n",
       "15       Hog              9.561038\n",
       "16     Eagle             13.168836\n",
       "17  Cockatoo              9.267690\n",
       "18     Mouse             11.842307"
      ]
     },
     "execution_count": 23,
     "metadata": {},
     "output_type": "execute_result"
    }
   ],
   "source": [
    "list_of_sites = ['Panther', 'Robin', 'Fox', 'Rat', 'Bear', 'Lamb', 'Peacock',\n",
    "       'Moose', 'Gator', 'Bull', 'Bobcat', 'Crow', 'Shrew', 'Swan',\n",
    "       'Wolf', 'Hog', 'Eagle', 'Cockatoo', 'Mouse']\n",
    "temperatura_media = []\n",
    "for site in list_of_sites:\n",
    "    lista = dados_climaticos[dados_climaticos[\"site_id\"] == site]\n",
    "    media = lista[\"airTemperature\"].mean()\n",
    "    temperatura_media.append([site, media])\n",
    "\n",
    "dados_climaticos_media = pd.DataFrame(temperatura_media, columns=[\"site_id\", \"mediumAirTemperature\"])\n",
    "dados_climaticos_media\n"
   ]
  },
  {
   "cell_type": "markdown",
   "metadata": {},
   "source": [
    "Acima está a média da temperatura pelo sítio."
   ]
  }
 ],
 "metadata": {
  "interpreter": {
   "hash": "b62c9ccde4c04e21644d837f9330595861bd0b2aac0da0c92dda9d7c75f109f1"
  },
  "kernelspec": {
   "display_name": "Python 3.10.0 64-bit",
   "language": "python",
   "name": "python3"
  },
  "language_info": {
   "codemirror_mode": {
    "name": "ipython",
    "version": 3
   },
   "file_extension": ".py",
   "mimetype": "text/x-python",
   "name": "python",
   "nbconvert_exporter": "python",
   "pygments_lexer": "ipython3",
   "version": "3.10.0"
  },
  "orig_nbformat": 4
 },
 "nbformat": 4,
 "nbformat_minor": 2
}
